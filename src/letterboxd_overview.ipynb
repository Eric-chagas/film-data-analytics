{
 "cells": [
  {
   "cell_type": "markdown",
   "id": "888de3b8",
   "metadata": {},
   "source": [
    "# Visualização inicial dos dados de filmes do aplicativo Letterboxd\n",
    "---\n",
    "\n",
    "Visualização inicial dos dados do app Letterboxd a partir dos arquivos .csv na camada bronze (RAW). O objetivo principal é compreender o estado e o universo do dataset em análise, para isso, serão explorados os seguintes pontos:\n",
    "\n",
    "1. Visualização de NaN, Null e campos vazios\n",
    "2. Visualização de outliers\n",
    "3. Entendimento das dimensões, ou seja, valores máximos, mínimos, médias e medianas\n",
    "\n",
    "Para isso será usada a biblioteca python de visualização de dados seaborn."
   ]
  },
  {
   "cell_type": "markdown",
   "id": "fb8ec796",
   "metadata": {},
   "source": [
    "## Leitura dos arquivos na camada Bronze\n",
    "\n",
    "### Import das bibliotecas"
   ]
  },
  {
   "cell_type": "code",
   "execution_count": 11,
   "id": "1e33034d",
   "metadata": {},
   "outputs": [],
   "source": [
    "from pyspark.sql import SparkSession\n",
    "from pyspark.sql.functions import split, explode_outer, arrays_zip, col, trim, ltrim, lit, count\n",
    "import seaborn as sns\n",
    "import pandas as pd"
   ]
  },
  {
   "cell_type": "markdown",
   "id": "0b9adcbc",
   "metadata": {},
   "source": [
    "### Criação da sessão no pyspark e ingestão dos .csv"
   ]
  },
  {
   "cell_type": "code",
   "execution_count": null,
   "id": "e3a785a6",
   "metadata": {},
   "outputs": [],
   "source": [
    "spark = SparkSession.builder.appName(\"letterboxdBronzeVisualization\").getOrCreate()\n",
    "\n",
    "df_actors = spark.read.csv('../bronze/actors.csv', header=True, inferSchema=True, sep=',')\n",
    "df_countries = spark.read.csv('../bronze/countries.csv', header=True, inferSchema=True, sep=',')\n",
    "df_crew = spark.read.csv('../bronze/crew.csv', header=True, inferSchema=True, sep=',')\n",
    "df_genres = spark.read.csv('../bronze/genres.csv', header=True, inferSchema=True, sep=',')\n",
    "df_languages = spark.read.csv('../bronze/languages.csv', header=True, inferSchema=True, sep=',')\n",
    "df_movies = spark.read.csv('../bronze/movies.csv', header=True, inferSchema=True, sep=',')\n",
    "df_posters = spark.read.csv('../bronze/posters.csv', header=True, inferSchema=True, sep=',')\n",
    "df_releases = spark.read.csv('../bronze/releases.csv', header=True, inferSchema=True, sep=',')\n",
    "df_studios = spark.read.csv('../bronze/studios.csv', header=True, inferSchema=True, sep=',')\n",
    "df_themes = spark.read.csv('../bronze/themes.csv', header=True, inferSchema=True, sep=',')\n",
    "\n",
    "df_actors.show(truncate=False)\n",
    "df_countries.show(truncate=False)\n",
    "df_crew.show(truncate=False)\n",
    "df_genres.show(truncate=False)\n",
    "df_languages.show(truncate=False)\n",
    "df_movies.show(truncate=False)\n",
    "df_posters.show(truncate=False)\n",
    "df_releases.show(truncate=False)\n",
    "df_studios.show(truncate=False)\n",
    "df_themes.show(truncate=False)\n"
   ]
  }
 ],
 "metadata": {
  "kernelspec": {
   "display_name": "venv",
   "language": "python",
   "name": "python3"
  },
  "language_info": {
   "codemirror_mode": {
    "name": "ipython",
    "version": 3
   },
   "file_extension": ".py",
   "mimetype": "text/x-python",
   "name": "python",
   "nbconvert_exporter": "python",
   "pygments_lexer": "ipython3",
   "version": "3.12.3"
  }
 },
 "nbformat": 4,
 "nbformat_minor": 5
}
