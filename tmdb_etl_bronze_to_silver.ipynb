{
 "cells": [
  {
   "cell_type": "markdown",
   "id": "987330b8",
   "metadata": {},
   "source": [
    "# Fluxo ETL de dados da camada Bronze para camada Silver\n",
    "\n",
    "## Introdução\n",
    "\n",
    "Na camada Bronze, os dados brutos, ou seja, sem tratamento e limpeza de dados estão armazenados no arquivo `TMDB_movie_dataset_v11.csv`. Nessa pipeline, serão realizadas as seguintes operações:\n",
    "\n",
    "- **Limpar e padronizar os dados**: tratar valores nulos, duplicados e NaN;\n",
    "- **Normalizar formatos**: datas, categorias e colunas numéricas;\n",
    "- **Enriquecer ou derivar novas colunas** quando necessário para análises futuras;\n",
    "- **Garantir a qualidade dos dados** antes do carregamento na Silver, que terá dados mais estruturados e prontos para consumo analítico.\n",
    "\n",
    "Na camada Silver ficam armazenados os **dados tratados e consistentes**, que poderão ser utilizados em análises exploratórias e os dashboards no Tableau e PowerBI.  \n",
    "\n",
    "As etapas do fluxo ETL são:\n",
    "\n",
    "1. Carregamento dos dados Bronze (CSV bruto);\n",
    "2. Inspeção e validação inicial das colunas;\n",
    "3. Remoção de colunas que não serão usadas;\n",
    "4. Tratamento de valores nulos, vazios, duplicados e NaN;\n",
    "5. Transformações de dados e enriquecimentos;\n",
    "6. Armazenamento dos dados tratados na camada Silver em csv;\n",
    "7. Carregamento no banco de dados.\n"
   ]
  },
  {
   "cell_type": "markdown",
   "id": "64c8b546",
   "metadata": {},
   "source": [
    "## Leitura do csv bruto da camada Bronze\n",
    "\n",
    "### Import das bibliotecas, configurações iniciais e inicialização da sessão spark"
   ]
  },
  {
   "cell_type": "code",
   "execution_count": 7,
   "id": "2657be0a",
   "metadata": {},
   "outputs": [],
   "source": [
    "\n",
    "from pyspark.sql import SparkSession\n",
    "from pyspark.sql.functions import split, explode_outer, arrays_zip, col, trim, ltrim, lit, count\n",
    "from pyspark.sql.types import StructType, StructField, IntegerType, StringType, FloatType, BooleanType, DateType\n",
    "import time\n",
    "\n",
    "# Inicio sessão spark\n",
    "spark = SparkSession.builder.appName(\"tmdbEtlBronzeToSilver\").getOrCreate()\n",
    "\n",
    "# Setando data e hora atuais para identificação nos arquivos de output caso necessário\n",
    "time.tzset()\n",
    "date_formatted = time.strftime(\"%Y%m%d\")\n",
    "time_formatted = time.strftime(\"%H%M%S\")\n",
    "timestamp_str = time.strftime(\"%Y-%m-%d %H:%M:%S\")"
   ]
  },
  {
   "cell_type": "markdown",
   "id": "c9437cd2",
   "metadata": {},
   "source": [
    "### Leitura do csv Bruto\n",
    "\n",
    "Definição do schema do CSV para importação no pyspark dataframe e leitura do arquivo."
   ]
  },
  {
   "cell_type": "code",
   "execution_count": null,
   "id": "35819946",
   "metadata": {},
   "outputs": [
    {
     "ename": "TypeError",
     "evalue": "DataFrameReader.csv() got an unexpected keyword argument 'stringescape'",
     "output_type": "error",
     "traceback": [
      "\u001b[31m---------------------------------------------------------------------------\u001b[39m",
      "\u001b[31mTypeError\u001b[39m                                 Traceback (most recent call last)",
      "\u001b[36mCell\u001b[39m\u001b[36m \u001b[39m\u001b[32mIn[11]\u001b[39m\u001b[32m, line 30\u001b[39m\n\u001b[32m     28\u001b[39m \u001b[38;5;66;03m# Ingestão do arquivo\u001b[39;00m\n\u001b[32m     29\u001b[39m csv_path = \u001b[33m\"\u001b[39m\u001b[33m./bronze/TMDB_movie_dataset_v11.csv\u001b[39m\u001b[33m\"\u001b[39m \n\u001b[32m---> \u001b[39m\u001b[32m30\u001b[39m df = \u001b[43mspark\u001b[49m\u001b[43m.\u001b[49m\u001b[43mread\u001b[49m\u001b[43m.\u001b[49m\u001b[43mcsv\u001b[49m\u001b[43m(\u001b[49m\u001b[43mcsv_path\u001b[49m\u001b[43m,\u001b[49m\u001b[43m \u001b[49m\u001b[43mheader\u001b[49m\u001b[43m=\u001b[49m\u001b[38;5;28;43;01mTrue\u001b[39;49;00m\u001b[43m,\u001b[49m\u001b[43m \u001b[49m\u001b[43mschema\u001b[49m\u001b[43m=\u001b[49m\u001b[43mschema\u001b[49m\u001b[43m,\u001b[49m\u001b[43m \u001b[49m\u001b[43msep\u001b[49m\u001b[43m=\u001b[49m\u001b[33;43m'\u001b[39;49m\u001b[33;43m,\u001b[39;49m\u001b[33;43m'\u001b[39;49m\u001b[43m,\u001b[49m\u001b[43m \u001b[49m\u001b[43mquote\u001b[49m\u001b[43m=\u001b[49m\u001b[33;43m'\u001b[39;49m\u001b[33;43m\"\u001b[39;49m\u001b[33;43m'\u001b[39;49m\u001b[43m,\u001b[49m\u001b[43m \u001b[49m\u001b[43mstringescape\u001b[49m\u001b[43m=\u001b[49m\u001b[33;43m'\u001b[39;49m\u001b[33;43m\"\u001b[39;49m\u001b[33;43m'\u001b[39;49m\u001b[43m)\u001b[49m\n",
      "\u001b[31mTypeError\u001b[39m: DataFrameReader.csv() got an unexpected keyword argument 'stringescape'"
     ]
    }
   ],
   "source": [
    "# Setando o schema\n",
    "schema = StructType([\n",
    "    StructField(\"id\", IntegerType(), True),\n",
    "    StructField(\"title\", StringType(), True),\n",
    "    StructField(\"vote_average\", FloatType(), True),\n",
    "    StructField(\"vote_count\", IntegerType(), True),\n",
    "    StructField(\"status\", StringType(), True),\n",
    "    StructField(\"release_date\", DateType(), True),\n",
    "    StructField(\"revenue\", IntegerType(), True),\n",
    "    StructField(\"runtime\", IntegerType(), True),\n",
    "    StructField(\"adult\", BooleanType(), True),\n",
    "    StructField(\"backdrop_path\", StringType(), True),\n",
    "    StructField(\"budget\", IntegerType(), True),\n",
    "    StructField(\"homepage\", StringType(), True),\n",
    "    StructField(\"imdb_id\", StringType(), True),\n",
    "    StructField(\"original_language\", StringType(), True),\n",
    "    StructField(\"original_title\", StringType(), True),\n",
    "    StructField(\"overview\", StringType(), True),\n",
    "    StructField(\"popularity\", FloatType(), True),\n",
    "    StructField(\"poster_path\", StringType(), True),\n",
    "    StructField(\"tagline\", StringType(), True),\n",
    "    StructField(\"genres\", StringType(), True),\n",
    "    StructField(\"production_companies\", StringType(), True),\n",
    "    StructField(\"production_countries\", StringType(), True),\n",
    "    StructField(\"spoken_languages\", StringType(), True)\n",
    "])\n",
    "\n",
    "# Ingestão do arquivo\n",
    "csv_path = \"./bronze/TMDB_movie_dataset_v11.csv\" \n",
    "df = spark.read.csv(csv_path, header=True, schema=schema, sep=',', quote='\"', escape='\"')"
   ]
  },
  {
   "cell_type": "code",
   "execution_count": 10,
   "id": "a311ef58",
   "metadata": {},
   "outputs": [
    {
     "name": "stdout",
     "output_type": "stream",
     "text": [
      "+------+-------------------------------------------------+------------+----------+--------+------------+----------+-------+-----+--------------------------------+---------+-------------------------------------------------------------------+---------+-----------------+-------------------------------------------------+----------------------------------------------------------------------------------------------------------------------------------------------------------------------------------------------------------------------------------------------------------------------------------------------------------------------------------------------------------------------------------------------------------------------------------------------------------------------------------------------------------+----------+--------------------------------+--------------------------------------------------------------------------------------+-------------------------------------------+----------------------------------------------------------------------------------------------+-----------------------------------------------------------------------------------------------------------------------------------+--------------------------------------------------+\n",
      "|id    |title                                            |vote_average|vote_count|status  |release_date|revenue   |runtime|adult|backdrop_path                   |budget   |homepage                                                           |imdb_id  |original_language|original_title                                   |overview                                                                                                                                                                                                                                                                                                                                                                                                                                                                                                  |popularity|poster_path                     |tagline                                                                               |genres                                     |production_companies                                                                          |production_countries                                                                                                               |spoken_languages                                  |\n",
      "+------+-------------------------------------------------+------------+----------+--------+------------+----------+-------+-----+--------------------------------+---------+-------------------------------------------------------------------+---------+-----------------+-------------------------------------------------+----------------------------------------------------------------------------------------------------------------------------------------------------------------------------------------------------------------------------------------------------------------------------------------------------------------------------------------------------------------------------------------------------------------------------------------------------------------------------------------------------------+----------+--------------------------------+--------------------------------------------------------------------------------------+-------------------------------------------+----------------------------------------------------------------------------------------------+-----------------------------------------------------------------------------------------------------------------------------------+--------------------------------------------------+\n",
      "|27205 |Inception                                        |8.364       |34495     |Released|2010-07-15  |825532764 |148    |false|/8ZTVqvKDQ8emSGUEMjsS4yHAwrp.jpg|160000000|https://www.warnerbros.com/movies/inception                        |tt1375666|en               |Inception                                        |\"Cobb, a skilled thief who commits corporate espionage by infiltrating the subconscious of his targets is offered a chance to regain his old life as payment for a task considered to be impossible: \"\"inception\"\"                                                                                                                                                                                                                                                                                        |NULL      |83.952                          |/oYuLEt3zVCKq57qu2F8dT7NIa6f.jpg                                                      |Your mind is the scene of the crime.       |Action, Science Fiction, Adventure                                                            |Legendary Pictures, Syncopy, Warner Bros. Pictures                                                                                 |United Kingdom, United States of America          |\n",
      "|157336|Interstellar                                     |8.417       |32571     |Released|2014-11-05  |701729206 |169    |false|/pbrkL804c8yAv3zBZR4QPEafpAR.jpg|165000000|http://www.interstellarmovie.net/                                  |tt0816692|en               |Interstellar                                     |The adventures of a group of explorers who make use of a newly discovered wormhole to surpass the limitations on human space travel and conquer the vast distances involved in an interstellar voyage.                                                                                                                                                                                                                                                                                                    |140.241   |/gEU2QniE6E77NI6lCU6MxlNBvIx.jpg|Mankind was born on Earth. It was never meant to die here.                            |Adventure, Drama, Science Fiction          |Legendary Pictures, Syncopy, Lynda Obst Productions                                           |United Kingdom, United States of America                                                                                           |English                                           |\n",
      "|155   |The Dark Knight                                  |8.512       |30619     |Released|2008-07-16  |1004558444|152    |false|/nMKdUUepR0i5zn0y1T4CsSB5chy.jpg|185000000|https://www.warnerbros.com/movies/dark-knight/                     |tt0468569|en               |The Dark Knight                                  |Batman raises the stakes in his war on crime. With the help of Lt. Jim Gordon and District Attorney Harvey Dent, Batman sets out to dismantle the remaining criminal organizations that plague the streets. The partnership proves to be effective, but they soon find themselves prey to a reign of chaos unleashed by a rising criminal mastermind known to the terrified citizens of Gotham as the Joker.                                                                                              |130.643   |/qJ2tW6WMUDux911r6m7haRef0WH.jpg|Welcome to a world without rules.                                                     |Drama, Action, Crime, Thriller             |DC Comics, Legendary Pictures, Syncopy, Isobel Griffiths, Warner Bros. Pictures               |United Kingdom, United States of America                                                                                           |English, Mandarin                                 |\n",
      "|19995 |Avatar                                           |7.573       |29815     |Released|2009-12-15  |NULL      |162    |false|/vL5LR6WdxWPjLPFRLe133jXWsh5.jpg|237000000|https://www.avatar.com/movies/avatar                               |tt0499549|en               |Avatar                                           |In the 22nd century, a paraplegic Marine is dispatched to the moon Pandora on a unique mission, but becomes torn between following orders and protecting an alien civilization.                                                                                                                                                                                                                                                                                                                           |79.932    |/kyeqWdyUXW608qlYkRqosgbbJyK.jpg|Enter the world of Pandora.                                                           |Action, Adventure, Fantasy, Science Fiction|Dune Entertainment, Lightstorm Entertainment, 20th Century Fox, Ingenious Media               |United States of America, United Kingdom                                                                                           |English, Spanish                                  |\n",
      "|24428 |The Avengers                                     |7.71        |29166     |Released|2012-04-25  |1518815515|143    |false|/9BBTo63ANSmhC4e6r62OJFuK2GL.jpg|220000000|https://www.marvel.com/movies/the-avengers                         |tt0848228|en               |The Avengers                                     |When an unexpected enemy emerges and threatens global safety and security, Nick Fury, director of the international peacekeeping agency known as S.H.I.E.L.D., finds himself in need of a team to pull the world back from the brink of disaster. Spanning the globe, a daring recruitment effort begins!                                                                                                                                                                                                 |98.082    |/RYMX2wcKCBAr24UyPD7xwmjaTn.jpg |Some assembly required.                                                               |Science Fiction, Action, Adventure         |Marvel Studios                                                                                |United States of America                                                                                                           |English, Hindi, Russian                           |\n",
      "|293660|Deadpool                                         |7.606       |28894     |Released|2016-02-09  |783100000 |108    |false|/en971MEXui9diirXlogOrPKmsEn.jpg|58000000 |https://www.20thcenturystudios.com/movies/deadpool                 |tt1431045|en               |Deadpool                                         |The origin story of former Special Forces operative turned mercenary Wade Wilson, who, after being subjected to a rogue experiment that leaves him with accelerated healing powers, adopts the alter ego Deadpool. Armed with his new abilities and a dark, twisted sense of humor, Deadpool hunts down the man who nearly destroyed his life.                                                                                                                                                            |72.735    |/zq8Cl3PNIDGU3iWNRoc5nEZ6pCe.jpg|Witness the beginning of a happy ending.                                              |Action, Adventure, Comedy                  |20th Century Fox, The Donners' Company, Genre Films                                           |United States of America                                                                                                           |English                                           |\n",
      "|299536|Avengers: Infinity War                           |8.255       |27713     |Released|2018-04-25  |2052415039|149    |false|/mDfJG3LC3Dqb67AZ52x3Z0jU0uB.jpg|300000000|https://www.marvel.com/movies/avengers-infinity-war                |tt4154756|en               |Avengers: Infinity War                           |As the Avengers and their allies have continued to protect the world from threats too large for any one hero to handle, a new danger has emerged from the cosmic shadows: Thanos. A despot of intergalactic infamy, his goal is to collect all six Infinity Stones, artifacts of unimaginable power, and use them to inflict his twisted will on all of reality. Everything the Avengers have fought for has led up to this moment - the fate of Earth and existence itself has never been more uncertain.|154.34    |/7WsyChQLEftFiDOVTGkv3hFpyyt.jpg|An entire universe. Once and for all.                                                 |Adventure, Action, Science Fiction         |Marvel Studios                                                                                |United States of America                                                                                                           |English, Xhosa                                    |\n",
      "|550   |Fight Club                                       |8.438       |27238     |Released|1999-10-15  |100853753 |139    |false|/hZkgoQYus5vegHoetLkCJzb17zJ.jpg|63000000 |http://www.foxmovies.com/movies/fight-club                         |tt0137523|en               |Fight Club                                       |\"A ticking-time-bomb insomniac and a slippery soap salesman channel primal male aggression into a shocking new form of therapy. Their concept catches on, with underground \"\"fight clubs\"\" forming in every town                                                                                                                                                                                                                                                                                          |NULL      |69.498                          |/pB8BM7pdSp6B6Ih7QZ4DrQ3PmJK.jpg                                                      |Mischief. Mayhem. Soap.                    |Drama                                                                                         |Regency Enterprises, Fox 2000 Pictures, Taurus Film, Atman Entertainment, Knickerbocker Films, The Linson Company, 20th Century Fox|United States of America                          |\n",
      "|118340|Guardians of the Galaxy                          |7.906       |26638     |Released|2014-07-30  |772776600 |121    |false|/uLtVbjvS1O7gXL8lUOwsFOH4man.jpg|170000000|http://marvel.com/guardians                                        |tt2015381|en               |Guardians of the Galaxy                          |Light years from Earth, 26 years after being abducted, Peter Quill finds himself the prime target of a manhunt after discovering an orb wanted by Ronan the Accuser.                                                                                                                                                                                                                                                                                                                                      |33.255    |/r7vmZjiyZw9rpJMQJdXpjgiCOk9.jpg|All heroes start somewhere.                                                           |Action, Science Fiction, Adventure         |Marvel Studios                                                                                |United States of America                                                                                                           |English                                           |\n",
      "|680   |Pulp Fiction                                     |8.488       |25893     |Released|1994-09-10  |213900000 |154    |false|/suaEOtk1N1sgg2MTM7oZd2cfVp3.jpg|8500000  |https://www.miramax.com/movie/pulp-fiction/                        |tt0110912|en               |Pulp Fiction                                     |A burger-loving hit man, his philosophical partner, a drug-addled gangster's moll and a washed-up boxer converge in this sprawling, comedic crime caper. Their adventures unfurl in three stories that ingeniously trip back and forth in time.                                                                                                                                                                                                                                                           |74.862    |/d5iIlFn5s0ImszYzBPb8JPIfbXD.jpg|Just because you are a character doesn't mean you have character.                     |Thriller, Crime                            |Miramax, A Band Apart, Jersey Films                                                           |United States of America                                                                                                           |English, Spanish, French                          |\n",
      "|13    |Forrest Gump                                     |8.477       |25409     |Released|1994-06-23  |677387716 |142    |false|/qdIMHd4sEfJSckfVJfKQvisL02a.jpg|55000000 |https://www.paramountmovies.com/movies/forrest-gump                |tt0109830|en               |Forrest Gump                                     |A man with a low IQ has accomplished great things in his life and been present during significant historic events—in each case, far exceeding what anyone imagined he could do. But despite all he has achieved, his one true love eludes him.                                                                                                                                                                                                                                                            |92.693    |/arw2vcBveWOVZr6pxd9XTd1TdQa.jpg|The world will never be the same once you've seen it through the eyes of Forrest Gump.|Comedy, Drama, Romance                     |Paramount, The Steve Tisch Company, Wendy Finerman Productions                                |United States of America                                                                                                           |English                                           |\n",
      "|671   |Harry Potter and the Philosopher's Stone         |7.916       |25379     |Released|2001-11-16  |976475550 |152    |false|/hziiv14OpD73u9gAak4XDDfBKa2.jpg|125000000|https://www.warnerbros.com/movies/harry-potter-and-sorcerers-stone/|tt0241527|en               |Harry Potter and the Philosopher's Stone         |Harry Potter has lived under the stairs at his aunt and uncle's house his whole life. But on his 11th birthday, he learns he's a powerful wizard—with a place waiting for him at the Hogwarts School of Witchcraft and Wizardry. As he learns to harness his newfound powers with the help of the school's kindly headmaster, Harry uncovers the truth about his parents' deaths—and about the villain who's to blame.                                                                                    |185.482   |/wuMc08IPKEatf9rnMNXvIDxqP4W.jpg|Let the magic begin.                                                                  |Adventure, Fantasy                         |Warner Bros. Pictures, Heyday Films, 1492 Pictures                                            |United Kingdom, United States of America                                                                                           |English                                           |\n",
      "|1726  |Iron Man                                         |7.64        |24874     |Released|2008-04-30  |585174222 |126    |false|/cyecB7godJ6kNHGONFjUyVN9OX5.jpg|140000000|https://www.marvel.com/movies/iron-man                             |tt0371746|en               |Iron Man                                         |After being held captive in an Afghan cave, billionaire engineer Tony Stark creates a unique weaponized suit of armor to fight evil.                                                                                                                                                                                                                                                                                                                                                                      |72.897    |/78lPtwv72eTNqFW9COBYI0dWDJa.jpg|Heroes aren't born. They're built.                                                    |Action, Science Fiction, Adventure         |Marvel Studios                                                                                |United States of America                                                                                                           |English, Persian, Urdu, Arabic                    |\n",
      "|68718 |Django Unchained                                 |8.171       |24672     |Released|2012-12-25  |425368238 |165    |false|/5Lbm0gpFDRAPIV1Cth6ln9iL1ou.jpg|100000000|http://www.unchainedmovie.com                                      |tt1853728|en               |Django Unchained                                 |With the help of a German bounty hunter, a freed slave sets out to rescue his wife from a brutal Mississippi plantation owner.                                                                                                                                                                                                                                                                                                                                                                            |54.224    |/7oWY8VDWW7thTzWh3OKYRkWUlD5.jpg|Life, liberty and the pursuit of vengeance.                                           |Drama, Western                             |The Weinstein Company, Columbia Pictures                                                      |United States of America                                                                                                           |English, French, German                           |\n",
      "|278   |The Shawshank Redemption                         |8.702       |24649     |Released|1994-09-23  |28341469  |142    |false|/kXfqcdQKsToO0OUXHcrrNCHDBzO.jpg|25000000 |NULL                                                               |tt0111161|en               |The Shawshank Redemption                         |Framed in the 1940s for the double murder of his wife and her lover, upstanding banker Andy Dufresne begins a new life at the Shawshank prison, where he puts his accounting skills to work for an amoral warden. During his long stretch in prison, Dufresne comes to be admired by the other inmates -- including an older prisoner named Red -- for his integrity and unquenchable sense of hope.                                                                                                      |122.61    |/lyQBXzOQSuE59IsHyhrp0qIiPAz.jpg|Fear can hold you prisoner. Hope can set you free.                                    |Drama, Crime                               |Castle Rock Entertainment                                                                     |United States of America                                                                                                           |English                                           |\n",
      "|299534|Avengers: Endgame                                |8.263       |23857     |Released|2019-04-24  |NULL      |181    |false|/7RyHsO4yDXtBv1zUU3mTpHeQ0d5.jpg|356000000|https://www.marvel.com/movies/avengers-endgame                     |tt4154796|en               |Avengers: Endgame                                |After the devastating events of Avengers: Infinity War, the universe is in ruins due to the efforts of the Mad Titan, Thanos. With the help of remaining allies, the Avengers must assemble once more in order to undo Thanos' actions and restore order to the universe once and for all, no matter what consequences may be in store.                                                                                                                                                                   |91.756    |/or06FN3Dka5tukK1e9sl16pB3iy.jpg|Avenge the fallen.                                                                    |Adventure, Science Fiction, Action         |Marvel Studios                                                                                |United States of America                                                                                                           |English, Japanese, Xhosa                          |\n",
      "|603   |The Matrix                                       |8.206       |23815     |Released|1999-03-30  |463517383 |136    |false|/oMsxZEvz9a708d49b6UdZK1KAo5.jpg|63000000 |http://www.warnerbros.com/matrix                                   |tt0133093|en               |The Matrix                                       |Set in the 22nd century, The Matrix tells the story of a computer hacker who joins a group of underground insurgents fighting the vast and powerful computers who now rule the earth.                                                                                                                                                                                                                                                                                                                     |78.564    |/f89U3ADr1oiB1s9GkdPOEpXUk5H.jpg|Welcome to the Real World.                                                            |Action, Science Fiction                    |Village Roadshow Pictures, Groucho II Film Partnership, Silver Pictures, Warner Bros. Pictures|United States of America                                                                                                           |English                                           |\n",
      "|597   |Titanic                                          |7.9         |23637     |Released|1997-11-18  |NULL      |194    |false|/rzdPqYx7Um4FUZeD8wpXqjAUcEm.jpg|200000000|https://www.paramountmovies.com/movies/titanic                     |tt0120338|en               |Titanic                                          |101-year-old Rose DeWitt Bukater tells the story of her life aboard the Titanic, 84 years later. A young Rose boards the ship with her mother and fiancé. Meanwhile, Jack Dawson and Fabrizio De Rossi win third-class tickets aboard the ship. Rose tells the whole story from Titanic's departure through to its death—on its first and last voyage—on April 15, 1912.                                                                                                                                  |102.348   |/9xjZS2rlVxm8SFx8kPC3aIGCOYQ.jpg|Nothing on Earth could come between them.                                             |Drama, Romance                             |Paramount, 20th Century Fox, Lightstorm Entertainment                                         |United States of America                                                                                                           |English, French, German, Swedish, Italian, Russian|\n",
      "|475557|Joker                                            |8.168       |23425     |Released|2019-10-01  |1074458282|122    |false|/hO7KbdvGOtDdeg0W4Y5nKEHeDDh.jpg|55000000 |http://www.jokermovie.net/                                         |tt7286456|en               |Joker                                            |During the 1980s, a failed stand-up comedian is driven insane and turns to a life of crime and chaos in Gotham City while becoming an infamous psychopathic crime figure.                                                                                                                                                                                                                                                                                                                                 |54.522    |/udDclJoHjfjb8Ekgsd4FDteOkCU.jpg|Put on a happy face.                                                                  |Crime, Thriller, Drama                     |Warner Bros. Pictures, Joint Effort, Village Roadshow Pictures, Bron Studios, DC Films        |Canada, United States of America                                                                                                   |English                                           |\n",
      "|120   |The Lord of the Rings: The Fellowship of the Ring|8.402       |23323     |Released|2001-12-18  |871368364 |179    |false|/x2RS3uTcsJJ9IfjNPcgDmukoEcQ.jpg|93000000 |http://www.lordoftherings.net/                                     |tt0120737|en               |The Lord of the Rings: The Fellowship of the Ring|Young hobbit Frodo Baggins, after inheriting a mysterious ring from his uncle Bilbo, must leave his home in order to keep it from falling into the hands of its evil creator. Along the way, a fellowship is formed to protect the ringbearer and make sure that the ring arrives at its final destination: Mt. Doom, the only place where it can be destroyed.                                                                                                                                           |87.037    |/6oom5QYQ2yQTMJIbnvbkBL9cHo6.jpg|One ring to rule them all                                                             |Adventure, Fantasy, Action                 |New Line Cinema, WingNut Films, The Saul Zaentz Company                                       |New Zealand, United States of America                                                                                              |English                                           |\n",
      "+------+-------------------------------------------------+------------+----------+--------+------------+----------+-------+-----+--------------------------------+---------+-------------------------------------------------------------------+---------+-----------------+-------------------------------------------------+----------------------------------------------------------------------------------------------------------------------------------------------------------------------------------------------------------------------------------------------------------------------------------------------------------------------------------------------------------------------------------------------------------------------------------------------------------------------------------------------------------+----------+--------------------------------+--------------------------------------------------------------------------------------+-------------------------------------------+----------------------------------------------------------------------------------------------+-----------------------------------------------------------------------------------------------------------------------------------+--------------------------------------------------+\n",
      "only showing top 20 rows\n"
     ]
    },
    {
     "name": "stderr",
     "output_type": "stream",
     "text": [
      "25/10/11 10:06:00 WARN CSVHeaderChecker: Number of column in CSV header is not equal to number of fields in the schema:\n",
      " Header length: 24, schema size: 23\n",
      "CSV file: file:///home/papercut/Documentos/projects/unb/2025-2/SBD2/film-data-analytics/bronze/TMDB_movie_dataset_v11.csv\n"
     ]
    }
   ],
   "source": [
    "df.show(truncate=False)"
   ]
  }
 ],
 "metadata": {
  "kernelspec": {
   "display_name": "venv",
   "language": "python",
   "name": "python3"
  },
  "language_info": {
   "codemirror_mode": {
    "name": "ipython",
    "version": 3
   },
   "file_extension": ".py",
   "mimetype": "text/x-python",
   "name": "python",
   "nbconvert_exporter": "python",
   "pygments_lexer": "ipython3",
   "version": "3.12.3"
  }
 },
 "nbformat": 4,
 "nbformat_minor": 5
}
